{
 "cells": [
  {
   "cell_type": "code",
   "execution_count": 4,
   "metadata": {
    "collapsed": true,
    "show_input": true
   },
   "outputs": [],
   "source": [
    "AM_PEAK_SCENARIO = 1021\n",
    "MIDDAY_SCENARIO = 1022\n",
    "PM_PEAK_SCENARIO = 1023\n",
    "EVENING_SCENARIO = 1024\n",
    "\n",
    "NEW_AM_PEAK_SCENARIO = 1021\n",
    "NEW_MIDDAY_SCENARIO = 1022\n",
    "NEW_PM_PEAK_SCENARIO = 1023\n",
    "NEW_EVENING_SCENARIO = 1024\n",
    "\n",
    "WIPE_TRAIN_ROUTES = True\n",
    "\n",
    "ROUTE_FILE = \"EMME_LINE_ATTRIBUTES_2041.csv\"\n",
    "SEGMENT_FILE =\"EMME_SEGMENT_ATTRIBUTES_2041.csv\"\n",
    "STATION_TO_NODE = \"station_to_stop.csv\""
   ]
  },
  {
   "cell_type": "code",
   "execution_count": 5,
   "metadata": {
    "collapsed": false,
    "show_input": true
   },
   "outputs": [],
   "source": [
    "import pandas as pd\n",
    "import numpy as np\n",
    "import inro.modeller as m\n",
    "mm = m.Modeller()"
   ]
  },
  {
   "cell_type": "code",
   "execution_count": null,
   "metadata": {
    "collapsed": true,
    "show_input": true
   },
   "outputs": [],
   "source": []
  },
  {
   "cell_type": "code",
   "execution_count": 6,
   "metadata": {
    "collapsed": false,
    "show_input": true
   },
   "outputs": [
    {
     "data": {
      "text/plain": [
       "Station Name\n",
       "Acton Station                   98204\n",
       "Agincourt Station               98055\n",
       "Ajax Station                    98013\n",
       "Aldershot Station               98039\n",
       "Allandale Waterfront Station    98005\n",
       "Name: node, dtype: int64"
      ]
     },
     "execution_count": 6,
     "metadata": {},
     "output_type": "execute_result"
    }
   ],
   "source": [
    "station_to_node = pd.read_csv(STATION_TO_NODE, index_col=0, squeeze=True)\n",
    "station_to_node.head()"
   ]
  },
  {
   "cell_type": "code",
   "execution_count": 7,
   "metadata": {
    "collapsed": false,
    "show_input": true
   },
   "outputs": [
    {
     "data": {
      "text/html": [
       "<div style=\"max-height:1000px;max-width:1500px;overflow:auto;\">\n",
       "<table border=\"1\" class=\"dataframe\">\n",
       "  <thead>\n",
       "    <tr style=\"text-align: right;\">\n",
       "      <th></th>\n",
       "      <th>emme_description</th>\n",
       "      <th>vehicle_num</th>\n",
       "      <th>vehicle_descr</th>\n",
       "      <th>union_node</th>\n",
       "      <th>AM_hdw</th>\n",
       "      <th>EV_hdw</th>\n",
       "      <th>MD_hdw</th>\n",
       "      <th>PM_hdw</th>\n",
       "    </tr>\n",
       "    <tr>\n",
       "      <th>emme_id</th>\n",
       "      <th></th>\n",
       "      <th></th>\n",
       "      <th></th>\n",
       "      <th></th>\n",
       "      <th></th>\n",
       "      <th></th>\n",
       "      <th></th>\n",
       "      <th></th>\n",
       "    </tr>\n",
       "  </thead>\n",
       "  <tbody>\n",
       "    <tr>\n",
       "      <th>GT01Ae</th>\n",
       "      <td>Lakeshore West A E</td>\n",
       "      <td>29</td>\n",
       "      <td>E2L12</td>\n",
       "      <td>98012</td>\n",
       "      <td>105.00</td>\n",
       "      <td>0</td>\n",
       "      <td>0.000000</td>\n",
       "      <td>0</td>\n",
       "    </tr>\n",
       "    <tr>\n",
       "      <th>GT01Be</th>\n",
       "      <td>Lakeshore West B E</td>\n",
       "      <td>29</td>\n",
       "      <td>E2L12</td>\n",
       "      <td>98012</td>\n",
       "      <td>35.00</td>\n",
       "      <td>0</td>\n",
       "      <td>0.000000</td>\n",
       "      <td>0</td>\n",
       "    </tr>\n",
       "    <tr>\n",
       "      <th>GT01Ce</th>\n",
       "      <td>Lakeshore West C E</td>\n",
       "      <td>28</td>\n",
       "      <td>E1L6</td>\n",
       "      <td>98012</td>\n",
       "      <td>0.00</td>\n",
       "      <td>15</td>\n",
       "      <td>15.714286</td>\n",
       "      <td>30</td>\n",
       "    </tr>\n",
       "    <tr>\n",
       "      <th>GT01De</th>\n",
       "      <td>Lakeshore West D E</td>\n",
       "      <td>29</td>\n",
       "      <td>E2L12</td>\n",
       "      <td>98012</td>\n",
       "      <td>26.25</td>\n",
       "      <td>0</td>\n",
       "      <td>0.000000</td>\n",
       "      <td>30</td>\n",
       "    </tr>\n",
       "    <tr>\n",
       "      <th>GT01Ee</th>\n",
       "      <td>Lakeshore West E E</td>\n",
       "      <td>30</td>\n",
       "      <td>D1L6</td>\n",
       "      <td>98012</td>\n",
       "      <td>105.00</td>\n",
       "      <td>0</td>\n",
       "      <td>0.000000</td>\n",
       "      <td>0</td>\n",
       "    </tr>\n",
       "  </tbody>\n",
       "</table>\n",
       "</div>"
      ],
      "text/plain": [
       "           emme_description  vehicle_num vehicle_descr  union_node  AM_hdw  \\\n",
       "emme_id                                                                      \n",
       "GT01Ae   Lakeshore West A E           29         E2L12       98012  105.00   \n",
       "GT01Be   Lakeshore West B E           29         E2L12       98012   35.00   \n",
       "GT01Ce   Lakeshore West C E           28          E1L6       98012    0.00   \n",
       "GT01De   Lakeshore West D E           29         E2L12       98012   26.25   \n",
       "GT01Ee   Lakeshore West E E           30          D1L6       98012  105.00   \n",
       "\n",
       "         EV_hdw     MD_hdw  PM_hdw  \n",
       "emme_id                             \n",
       "GT01Ae        0   0.000000       0  \n",
       "GT01Be        0   0.000000       0  \n",
       "GT01Ce       15  15.714286      30  \n",
       "GT01De        0   0.000000      30  \n",
       "GT01Ee        0   0.000000       0  "
      ]
     },
     "execution_count": 7,
     "metadata": {},
     "output_type": "execute_result"
    }
   ],
   "source": [
    "route_headers = pd.read_csv(ROUTE_FILE, index_col=\"emme_id\")\n",
    "route_headers.head()"
   ]
  },
  {
   "cell_type": "code",
   "execution_count": 8,
   "metadata": {
    "collapsed": false,
    "show_input": true
   },
   "outputs": [
    {
     "data": {
      "text/html": [
       "<div style=\"max-height:1000px;max-width:1500px;overflow:auto;\">\n",
       "<table border=\"1\" class=\"dataframe\">\n",
       "  <thead>\n",
       "    <tr style=\"text-align: right;\">\n",
       "      <th></th>\n",
       "      <th>emme_id</th>\n",
       "      <th>time_period</th>\n",
       "      <th>index</th>\n",
       "      <th>from_station</th>\n",
       "      <th>to_station</th>\n",
       "      <th>tt_minutes</th>\n",
       "      <th>dwell</th>\n",
       "    </tr>\n",
       "  </thead>\n",
       "  <tbody>\n",
       "    <tr>\n",
       "      <th>0</th>\n",
       "      <td>GT01Ae</td>\n",
       "      <td>AM</td>\n",
       "      <td>0</td>\n",
       "      <td>Appleby Station</td>\n",
       "      <td>Bronte Station</td>\n",
       "      <td>3.75</td>\n",
       "      <td>90</td>\n",
       "    </tr>\n",
       "    <tr>\n",
       "      <th>1</th>\n",
       "      <td>GT01Ae</td>\n",
       "      <td>AM</td>\n",
       "      <td>1</td>\n",
       "      <td>Bronte Station</td>\n",
       "      <td>Oakville Station</td>\n",
       "      <td>4.25</td>\n",
       "      <td>90</td>\n",
       "    </tr>\n",
       "    <tr>\n",
       "      <th>2</th>\n",
       "      <td>GT01Ae</td>\n",
       "      <td>AM</td>\n",
       "      <td>2</td>\n",
       "      <td>Oakville Station</td>\n",
       "      <td>Clarkson Station</td>\n",
       "      <td>5.50</td>\n",
       "      <td>90</td>\n",
       "    </tr>\n",
       "    <tr>\n",
       "      <th>3</th>\n",
       "      <td>GT01Ae</td>\n",
       "      <td>AM</td>\n",
       "      <td>3</td>\n",
       "      <td>Clarkson Station</td>\n",
       "      <td>Port Credit Station</td>\n",
       "      <td>4.00</td>\n",
       "      <td>90</td>\n",
       "    </tr>\n",
       "    <tr>\n",
       "      <th>4</th>\n",
       "      <td>GT01Ae</td>\n",
       "      <td>AM</td>\n",
       "      <td>4</td>\n",
       "      <td>Port Credit Station</td>\n",
       "      <td>Exhibition Station</td>\n",
       "      <td>10.25</td>\n",
       "      <td>60</td>\n",
       "    </tr>\n",
       "  </tbody>\n",
       "</table>\n",
       "</div>"
      ],
      "text/plain": [
       "  emme_id time_period  index         from_station           to_station  \\\n",
       "0  GT01Ae          AM      0      Appleby Station       Bronte Station   \n",
       "1  GT01Ae          AM      1       Bronte Station     Oakville Station   \n",
       "2  GT01Ae          AM      2     Oakville Station     Clarkson Station   \n",
       "3  GT01Ae          AM      3     Clarkson Station  Port Credit Station   \n",
       "4  GT01Ae          AM      4  Port Credit Station   Exhibition Station   \n",
       "\n",
       "   tt_minutes  dwell  \n",
       "0        3.75     90  \n",
       "1        4.25     90  \n",
       "2        5.50     90  \n",
       "3        4.00     90  \n",
       "4       10.25     60  "
      ]
     },
     "execution_count": 8,
     "metadata": {},
     "output_type": "execute_result"
    }
   ],
   "source": [
    "segment_table = pd.read_csv(SEGMENT_FILE)\n",
    "grouped_segments = segment_table.groupby([\"time_period\", \"emme_id\"])\n",
    "segment_table.head()"
   ]
  },
  {
   "cell_type": "code",
   "execution_count": 20,
   "metadata": {
    "collapsed": true,
    "show_input": true
   },
   "outputs": [],
   "source": [
    "am_network = mm.emmebank.scenario(AM_PEAK_SCENARIO).get_network()\n",
    "md_network = mm.emmebank.scenario(MIDDAY_SCENARIO).get_network()\n",
    "pm_network = mm.emmebank.scenario(PM_PEAK_SCENARIO).get_network()\n",
    "ev_network = mm.emmebank.scenario(EVENING_SCENARIO).get_network()"
   ]
  },
  {
   "cell_type": "code",
   "execution_count": 21,
   "metadata": {
    "collapsed": true,
    "show_input": true
   },
   "outputs": [],
   "source": [
    "network_lookup = {\"AM\": am_network, \"MD\": md_network, \"PM\": pm_network, \"EV\": ev_network}"
   ]
  },
  {
   "cell_type": "code",
   "execution_count": null,
   "metadata": {
    "collapsed": true,
    "show_input": true
   },
   "outputs": [],
   "source": []
  },
  {
   "cell_type": "code",
   "execution_count": 22,
   "metadata": {
    "collapsed": false,
    "show_input": true
   },
   "outputs": [],
   "source": [
    "if WIPE_TRAIN_ROUTES:\n",
    "    for network in network_lookup.values():\n",
    "        r_mode = network.mode(\"r\")\n",
    "        R_mode = network.mode(\"R\")\n",
    "        modeset = {r_mode, R_mode}\n",
    "        \n",
    "        lines_to_delete = [line.id for line in network.transit_lines() if line.mode in modeset]\n",
    "        for line_id in lines_to_delete: network.delete_transit_line(line_id)"
   ]
  },
  {
   "cell_type": "code",
   "execution_count": null,
   "metadata": {
    "collapsed": false,
    "show_input": true
   },
   "outputs": [],
   "source": []
  },
  {
   "cell_type": "markdown",
   "metadata": {},
   "source": [
    "## Cache node to node lengths and paths"
   ]
  },
  {
   "cell_type": "code",
   "execution_count": 10,
   "metadata": {
    "collapsed": false,
    "show_input": true
   },
   "outputs": [
    {
     "data": {
      "text/plain": [
       "95"
      ]
     },
     "execution_count": 10,
     "metadata": {},
     "output_type": "execute_result"
    }
   ],
   "source": [
    "# r_mode = am_network.mode(\"r\")\n",
    "# R_mode = am_network.mode(\"R\")\n",
    "\n",
    "# links_to_exclude = {link for link in am_network.links() if r_mode not in link.modes and R_mode not in link.modes}\n",
    "all_rail_stops = pd.Index(sorted(station_to_node.tolist() + route_headers.union_node.unique().tolist()))\n",
    "all_rail_stops"
   ]
  },
  {
   "cell_type": "code",
   "execution_count": null,
   "metadata": {
    "collapsed": true,
    "show_input": true
   },
   "outputs": [],
   "source": []
  },
  {
   "cell_type": "code",
   "execution_count": 24,
   "metadata": {
    "collapsed": false,
    "show_input": true
   },
   "outputs": [
    {
     "name": "stdout",
     "output_type": "stream",
     "text": [
      "Wall time: 1.09 s\n"
     ]
    }
   ],
   "source": [
    "%%time\n",
    "cached_shortest_paths = {}\n",
    "cached_shortest_costs = pd.DataFrame(np.inf, index=all_rail_stops, columns=all_rail_stops)\n",
    "\n",
    "for from_node in all_rail_stops:\n",
    "    tree = am_network.shortest_path_tree(\n",
    "        origin_node_id=from_node,\n",
    "        link_costs='length',\n",
    "        excluded_links=links_to_exclude,\n",
    "        consider_turns=False\n",
    "    )\n",
    "    \n",
    "    for to_node in tree.reachable_nodes():\n",
    "        to_node = to_node.number\n",
    "        if to_node not in all_rail_stops: continue\n",
    "        cached_shortest_costs.at[from_node, to_node] = tree.cost_to_node(to_node)\n",
    "        links = tree.path_to_node(to_node)\n",
    "        path = [link.j_node.number for link in links[:-1]]\n",
    "        cached_shortest_paths[from_node, to_node] = path"
   ]
  },
  {
   "cell_type": "code",
   "execution_count": null,
   "metadata": {
    "collapsed": true,
    "show_input": true
   },
   "outputs": [],
   "source": []
  },
  {
   "cell_type": "markdown",
   "metadata": {},
   "source": [
    "# Process Routes"
   ]
  },
  {
   "cell_type": "code",
   "execution_count": 25,
   "metadata": {
    "collapsed": true,
    "show_input": true
   },
   "outputs": [],
   "source": [
    "def create_route(time_period, emme_id):\n",
    "    header = route_headers.loc[emme_id]\n",
    "    segments = grouped_segments.get_group((time_period, emme_id))\n",
    "    network = network_lookup[time_period]\n",
    "    \n",
    "    itin, speeds, stop_flags, dwell_times = [], [], [], [0.0]\n",
    "    for _, row in segments.iterrows():\n",
    "        from_node = header.union_node if row.from_station == 'Union Station' else station_to_node.at[row.from_station]\n",
    "        to_node = header.union_node if row.to_station == 'Union Station' else station_to_node.at[row.to_station]\n",
    "        \n",
    "        itin.append(from_node)\n",
    "        path_nodes = cached_shortest_paths[from_node, to_node]\n",
    "        itin += path_nodes\n",
    "        \n",
    "        length = cached_shortest_costs.at[from_node, to_node]\n",
    "        time = row.tt_minutes\n",
    "        speed = length / time * 60.0\n",
    "        \n",
    "        for _ in range(len(path_nodes) + 1): speeds.append(speed)\n",
    "        stop_flags.append(True)\n",
    "        for _ in range(len(path_nodes)): \n",
    "            stop_flags.append(False)\n",
    "            dwell_times.append(0.0)\n",
    "        dwell_times.append(row.dwell / 60.0)\n",
    "    itin.append(to_node)\n",
    "    \n",
    "    veh_id = header.vehicle_num\n",
    "    emme_route = network.create_transit_line(emme_id, veh_id, itin)\n",
    "    emme_route.description = header.emme_description\n",
    "    emme_route.headway = header[time_period + \"_hdw\"]\n",
    "    \n",
    "    for i, segment in enumerate(emme_route.segments(include_hidden=True)):\n",
    "        if segment.link is None:\n",
    "            # Hidden segment at the end\n",
    "            segment.dwell_time = dwell_times[-1]\n",
    "        else:\n",
    "            segment.transit_time_func = 1\n",
    "            segment.data1 = speeds[i]\n",
    "            segment.allow_alightings = stop_flags[i]\n",
    "            segment.allow_boardings = stop_flags[i]\n",
    "            segment.dwell_time = dwell_times[i]\n",
    "            \n",
    "    return emme_route"
   ]
  },
  {
   "cell_type": "code",
   "execution_count": null,
   "metadata": {
    "collapsed": true,
    "show_input": true
   },
   "outputs": [],
   "source": []
  },
  {
   "cell_type": "code",
   "execution_count": 26,
   "metadata": {
    "collapsed": false,
    "scrolled": false,
    "show_input": true
   },
   "outputs": [
    {
     "name": "stdout",
     "output_type": "stream",
     "text": [
      "EV GT03Gw\n",
      "MD GT03Aw\n",
      "PM GT05En\n",
      "MD GT05As\n",
      "PM GT05Fs\n",
      "AM GT09Be\n",
      "MD GT03Bw\n",
      "MD GT03Ge\n",
      "PM GT05Cn\n",
      "PM GT06Cn\n",
      "MD GT09Ce\n",
      "EV GT07Dn\n",
      "PM GT01Cw\n",
      "MD GT03He\n",
      "AM GT02Ae\n",
      "AM GT05Dn\n",
      "AM GT05Bs\n",
      "EV GT05As\n",
      "AM GT03Ce\n",
      "PM GT07An\n",
      "AM GT05An\n",
      "AM GT06Bs\n",
      "PM GT03De\n",
      "MD GT07An\n",
      "EV GT06Bn\n",
      "AM GT03Be\n",
      "PM GT03He\n",
      "AM GT05Ds\n",
      "EV GT07Cs\n",
      "PM GT01He\n",
      "AM GT07Es\n",
      "MD GT09Aw\n",
      "MD GT06Bn\n",
      "PM GT01Lw\n",
      "MD GT05Es\n",
      "MD GT07Bs\n",
      "EV GT01Hw\n",
      "AM GT01Hw\n",
      "PM GT05Bs\n",
      "PM GT07Bn\n",
      "AM GT07Ds\n",
      "AM GT05Es\n",
      "PM GT05Es\n",
      "PM GT07Bs\n",
      "PM GT01Iw\n",
      "MD GT01Jw\n",
      "PM GT03Ae\n",
      "MD GT03Fe\n",
      "EV GT05Es\n",
      "AM GT03Ge\n",
      "EV GT05Fn\n",
      "AM GT01Ke\n",
      "PM GT09Be\n",
      "PM GT09Ce\n",
      "EV GT03Cw\n",
      "MD GT06As\n",
      "MD GT01Ce\n",
      "AM GT03Fe\n",
      "MD GT05En\n",
      "MD GT03Ae\n",
      "AM GT01Je\n",
      "AM GT01Ee\n",
      "PM GT01Kw\n",
      "PM GT05An\n",
      "MD GT03Be\n",
      "MD GT03De\n",
      "PM GT07Cs\n",
      "EV GT09Ce\n",
      "PM GT03Be\n",
      "AM GT05En\n",
      "AM GT07Bn\n",
      "AM GT05Cn\n",
      "PM GT09Cw\n",
      "AM GT01De\n",
      "EV GT09Ae\n",
      "MD GT01Hw\n",
      "PM GT07En\n",
      "EV GT01Ge\n",
      "PM GT05As\n",
      "AM GT03Bw\n",
      "EV GT05En\n",
      "AM GT03Dw\n",
      "MD GT07Cn\n",
      "EV GT03Fe\n",
      "AM GT02Be\n",
      "MD GT05Cs\n",
      "PM GT01Hw\n",
      "PM GT03Fe\n",
      "AM GT09De\n",
      "MD GT01Fw\n",
      "EV GT07As\n",
      "PM GT05Fn\n",
      "MD GT09Be\n",
      "AM GT03Ae\n",
      "EV GT03Ae\n",
      "MD GT05An\n",
      "AM GT09Ce\n",
      "PM GT01Ge\n",
      "PM GT05Cs\n",
      "EV GT01Fw\n",
      "EV GT03Be\n",
      "EV GT03He\n",
      "EV GT09Cw\n",
      "AM GT05Bn\n",
      "MD GT02Aw\n",
      "PM GT09De\n",
      "PM GT03Aw\n",
      "EV GT05An\n",
      "EV GT02Be\n",
      "MD GT05Fs\n",
      "EV GT07An\n",
      "MD GT01Ge\n",
      "PM GT03Dw\n",
      "MD GT03Fw\n",
      "MD GT09Cw\n",
      "AM GT07Cs\n",
      "MD GT01Aw\n",
      "PM GT09Ae\n",
      "MD GT07Cs\n",
      "AM GT03Cw\n",
      "MD GT03Cw\n",
      "PM GT01De\n",
      "MD GT03Dw\n",
      "PM GT06Bn\n",
      "PM GT09Aw\n",
      "PM GT01Fw\n",
      "AM GT05As\n",
      "PM GT03Bw\n",
      "AM GT07Cn\n",
      "AM GT03Ee\n",
      "AM GT01Bw\n",
      "MD GT01He\n",
      "PM GT02Bw\n",
      "PM GT05Bn\n",
      "PM GT07Dn\n",
      "PM GT07Ds\n",
      "EV GT03Ew\n",
      "EV GT07Bn\n",
      "PM GT01Ew\n",
      "AM GT05Fn\n",
      "AM GT03De\n",
      "EV GT01He\n",
      "PM GT03Gw\n",
      "AM GT01Le\n",
      "AM GT06As\n",
      "AM GT09Bw\n",
      "EV GT05Cn\n",
      "PM GT01Mw\n",
      "MD GT07Ds\n",
      "EV GT05Cs\n",
      "MD GT01Je\n",
      "EV GT01Aw\n",
      "AM GT01Fw\n",
      "PM GT01Ce\n",
      "AM GT03Aw\n",
      "AM GT01Fe\n",
      "AM GT05Fs\n",
      "EV GT03De\n",
      "PM GT01Gw\n",
      "EV GT01Jw\n",
      "EV GT06Cs\n",
      "PM GT07As\n",
      "MD GT05Cn\n",
      "PM GT03Ew\n",
      "PM GT01Bw\n",
      "PM GT05Dn\n",
      "AM GT01Jw\n",
      "AM GT05Cs\n",
      "EV GT06An\n",
      "EV GT07Bs\n",
      "EV GT02Aw\n",
      "AM GT01Ie\n",
      "MD GT09Ae\n",
      "PM GT09Dw\n",
      "MD GT01Bw\n",
      "MD GT07Bn\n",
      "AM GT06An\n",
      "AM GT03He\n",
      "MD GT06An\n",
      "AM GT07Bs\n",
      "PM GT07Cn\n",
      "PM GT01Dw\n",
      "AM GT01He\n",
      "PM GT03Fw\n",
      "AM GT09Dw\n",
      "MD GT06Cs\n",
      "AM GT07An\n",
      "AM GT07As\n",
      "AM GT03Ew\n",
      "AM GT01Be\n",
      "AM GT03Gw\n",
      "EV GT01Ce\n",
      "EV GT03Aw\n",
      "EV GT07Cn\n",
      "PM GT01Aw\n",
      "AM GT09Cw\n",
      "EV GT06As\n",
      "PM GT09Bw\n",
      "EV GT03Bw\n",
      "MD GT02Be\n",
      "AM GT01Ae\n",
      "EV GT09Aw\n",
      "MD GT07As\n",
      "Wall time: 272 ms\n"
     ]
    }
   ],
   "source": [
    "%%time\n",
    "for time_period, emme_id in grouped_segments.groups:\n",
    "    print time_period, emme_id\n",
    "    _ = create_route(time_period, emme_id)"
   ]
  },
  {
   "cell_type": "code",
   "execution_count": null,
   "metadata": {
    "collapsed": false,
    "show_input": true
   },
   "outputs": [],
   "source": [
    "def publish_scenario(old_id, new_id, network):\n",
    "    if old_id == new_id: sc = mm.emmebank.scenario(new_id)\n",
    "    else:\n",
    "        if mm.emmebank.scenario(new_id) is not None: mm.emmebank.delete_scenario(new_id)\n",
    "        sc = mm.emmebank.copy_scenario(old_id, new_id)\n",
    "    sc.publish_network(network)"
   ]
  },
  {
   "cell_type": "code",
   "execution_count": null,
   "metadata": {
    "collapsed": false,
    "show_input": true
   },
   "outputs": [],
   "source": [
    "%%time\n",
    "publish_scenario(AM_PEAK_SCENARIO, NEW_AM_PEAK_SCENARIO, am_network)\n",
    "publish_scenario(MIDDAY_SCENARIO, NEW_MIDDAY_SCENARIO, md_network)\n",
    "publish_scenario(PM_PEAK_SCENARIO, NEW_PM_PEAK_SCENARIO, pm_network)\n",
    "publish_scenario(EVENING_SCENARIO, NEW_EVENING_SCENARIO, ev_network)"
   ]
  },
  {
   "cell_type": "code",
   "execution_count": null,
   "metadata": {
    "collapsed": true,
    "show_input": true
   },
   "outputs": [],
   "source": []
  }
 ],
 "metadata": {
  "kernelspec": {
   "display_name": "Python 2",
   "language": "python",
   "name": "python2"
  },
  "language_info": {
   "codemirror_mode": {
    "name": "ipython",
    "version": 2
   },
   "file_extension": ".py",
   "mimetype": "text/x-python",
   "name": "python",
   "nbconvert_exporter": "python",
   "pygments_lexer": "ipython2",
   "version": "2.7.14"
  }
 },
 "nbformat": 4,
 "nbformat_minor": 0
}
