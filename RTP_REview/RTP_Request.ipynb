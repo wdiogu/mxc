{
 "cells": [
  {
   "cell_type": "code",
   "execution_count": 4,
   "metadata": {
    "collapsed": false,
    "show_input": true
   },
   "outputs": [
    {
     "name": "stdout",
     "output_type": "stream",
     "text": [
      "Found source network: AM FRTN+ V2 RL QC.nwp for scenario 100\n",
      "Imported network for scenario 100\n",
      "Found source network: Evening FRTN+ V2 RL QC.nwp for scenario 400\n",
      "Imported network for scenario 400\n",
      "Found source network: Midday FRTN+ V2 RL QC.nwp for scenario 200\n",
      "Imported network for scenario 200\n",
      "Found source network: PM FRTN+ V2 RL QC.nwp for scenario 300\n",
      "Imported network for scenario 300\n",
      "Wall time: 2min 51s\n"
     ]
    }
   ],
   "source": [
    "%%time\n",
    "import inro.modeller as _m\n",
    "import os\n",
    "\n",
    "# Initialize the Modeller\n",
    "modeller = _m.Modeller()\n",
    "import_network_tool = modeller.tool(\"tmg.input_output.import_network_package\")\n",
    "\n",
    "\n",
    "parameters = {\n",
    "    \"IMPORT_NETWORK_FLAG\":True,\n",
    "    \"EXPORT_NETWORK_FLAG\": True,\n",
    "    \"mode_to_modify\": \"r\",  \n",
    "    \"network_folder\": \"frtn_v2\",  \n",
    "#     \"network_folder\": \"bus\",  \n",
    "    \"export_network_folder\": \"exported_networks\",\n",
    "    \"source_scenarios\": [\n",
    "        {\"time_period\": \"AM\", \"scenario_id\": 100},\n",
    "        {\"time_period\": \"Midday\", \"scenario_id\": 200},\n",
    "        {\"time_period\": \"PM\", \"scenario_id\": 300},\n",
    "        {\"time_period\": \"Evening\", \"scenario_id\": 400},\n",
    "        {\"time_period\": \"Overnight\", \"scenario_id\": 500},\n",
    "    ],\n",
    "\n",
    "}\n",
    "\n",
    "def import_network(network_folder, network_file, scenario_id):\n",
    "    \"\"\"Imports a network package into a specified scenario.\"\"\"\n",
    "    network_package_path = os.path.join(network_folder, network_file)\n",
    "    scenario_name = network_file[:-4]\n",
    "    import_network_tool(network_package_path, scenario_id, 'OVERWRITE', True, scenario_name)\n",
    "    print \"Imported network for scenario {}\".format(scenario_id)\n",
    "\n",
    "\n",
    "if parameters[\"IMPORT_NETWORK_FLAG\"]:\n",
    "    for network_file in os.listdir(parameters[\"network_folder\"]):\n",
    "        for scenario in parameters[\"source_scenarios\"]:\n",
    "            if scenario[\"time_period\"] in network_file:\n",
    "                print(\"Found source network: {} for scenario {}\".format(network_file, scenario[\"scenario_id\"]))\n",
    "                import_network(parameters[\"network_folder\"], network_file, scenario[\"scenario_id\"])\n",
    "                "
   ]
  },
  {
   "cell_type": "code",
   "execution_count": 16,
   "metadata": {
    "collapsed": false,
    "show_input": true
   },
   "outputs": [],
   "source": [
    "%matplotlib inline\n",
    "import matplotlib.pyplot as plt\n",
    "import pandas as pd\n",
    "import inro.modeller as m\n",
    "mm = m.Modeller()\n",
    "gghm_api = mm.module('gghm.internal.api_interface')\n",
    "from gghm_api import MatrixButler"
   ]
  },
  {
   "cell_type": "code",
   "execution_count": 24,
   "metadata": {
    "collapsed": false
   },
   "outputs": [
    {
     "name": "stdout",
     "output_type": "stream",
     "text": [
      "ALL DONE!!\n"
     ]
    }
   ],
   "source": [
    "parameters = {\n",
    "    \"time_period\": \"Midday\",\n",
    "    \"options\": [\n",
    "        {\"option\": \"BAU\", \"landuse\": \"HousingPP\", \"folder\": \"M:\\GGHM v4\\Caches\\RTP\\RTP_Refresh_2023\\MXRTP_2051_BAU_20240215_hs\" },\n",
    "        {\"option\": \"FRTN\",\"landuse\": \"HousingPP\", \"folder\": \"M:\\GGHM v4\\Caches\\RTP\\RTP_Refresh_2023\\MXRTP_2051_FRTN_20240223_hs\"},\n",
    "        {\"option\": \"FRTN+\",\"landuse\": \"HousingPP\", \"folder\": \"M:\\GGHM v4\\Caches\\RTP\\RTP_Refresh_2023\\MX-RTP-20240411-HousingPP-51-FRTN_Plus-0220N\"},\n",
    "#         {\"option\": \"FRTN+\",\n",
    "#          \"landuse\": \"HousingPP\", \n",
    "#          \"folder\": \"M:\\GGHM v4\\Caches\\RTP\\RTP_Refresh_2023\\MX-RTP-20240413-HousingPP-51-Bus_Sensitivity-0220N\\MX-RTP-20240413-HousingPP-51-Bus_Sensitivity-0220N\"},       \n",
    "    ],\n",
    "}\n",
    "\n",
    "\n",
    "def get_filename(scenario, time_peirod, mode, skim_type, landuse):\n",
    "    file_name = \"{} {} {} {} Skim - {}.csv\".format(scenario, time_peirod, mode, skim_type, landuse ) #Midday Auto Time Skim - Housing PP\n",
    "    return file_name\n",
    "\n",
    "for parameter in parameters[\"options\"]:\n",
    "    butler = MatrixButler.connect(parameter[\"folder\"])\n",
    "    auto_distance_skim = butler.load_matrix('skim.midday.auto.sov.dist', tall = True)\n",
    "    auto_time_skim = butler.load_matrix('skim.midday.auto.sov.time',tall = True)\n",
    "    \n",
    "    \n",
    "    distance = auto_distance_skim.to_frame().reset_index()\n",
    "    distance.columns = ['i','j', 'distance']\n",
    "    file_name = get_filename(parameter[\"option\"], parameters[\"time_period\"], \"Auto\", \"Distance\", parameter[\"landuse\"] )\n",
    "    distance.to_csv(file_name, index=False)\n",
    "    \n",
    "    time = auto_time_skim.to_frame().reset_index()\n",
    "    time.columns = ['i','j', 'time']\n",
    "    file_name = get_filename(parameter[\"option\"], parameters[\"time_period\"], \"Auto\", \"Time\", parameter[\"landuse\"] )\n",
    "    time.to_csv(file_name, index=False)\n",
    "    \n",
    "print \"ALL DONE!!\""
   ]
  },
  {
   "cell_type": "code",
   "execution_count": 21,
   "metadata": {
    "collapsed": false
   },
   "outputs": [
    {
     "data": {
      "text/plain": [
       "pandas.core.frame.DataFrame"
      ]
     },
     "execution_count": 21,
     "metadata": {},
     "output_type": "execute_result"
    }
   ],
   "source": [
    "type(distance)"
   ]
  }
 ],
 "metadata": {
  "kernelspec": {
   "display_name": "Python 2",
   "language": "python",
   "name": "python2"
  },
  "language_info": {
   "codemirror_mode": {
    "name": "ipython",
    "version": 2
   },
   "file_extension": ".py",
   "mimetype": "text/x-python",
   "name": "python",
   "nbconvert_exporter": "python",
   "pygments_lexer": "ipython2",
   "version": "2.7.14"
  }
 },
 "nbformat": 4,
 "nbformat_minor": 0
}
