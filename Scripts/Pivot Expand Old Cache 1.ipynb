{
 "cells": [
  {
   "cell_type": "code",
   "execution_count": 1,
   "metadata": {
    "collapsed": true,
    "show_input": true
   },
   "outputs": [],
   "source": [
    "ZONE_ATTRIBUTES = r\"\"\n",
    "NEW_STATION_FILE = r\"\"\n",
    "SOURCE_CACHE = r\"\"\n",
    "TARGET_CACHE = r\"\""
   ]
  },
  {
   "cell_type": "code",
   "execution_count": 2,
   "metadata": {
    "collapsed": true,
    "show_input": true
   },
   "outputs": [],
   "source": [
    "import inro.modeller as m\n",
    "mm = m.Modeller()\n",
    "gghm_api = mm.module('gghm.internal.api_interface')"
   ]
  },
  {
   "cell_type": "code",
   "execution_count": 3,
   "metadata": {
    "collapsed": true,
    "show_input": true
   },
   "outputs": [],
   "source": [
    "gghm_api.remove_jupyter_handler()"
   ]
  },
  {
   "cell_type": "code",
   "execution_count": 4,
   "metadata": {
    "collapsed": true,
    "show_input": true
   },
   "outputs": [],
   "source": [
    "import pandas as pd\n",
    "import numpy as np"
   ]
  },
  {
   "cell_type": "code",
   "execution_count": 5,
   "metadata": {
    "collapsed": false,
    "show_input": true
   },
   "outputs": [],
   "source": [
    "zones = set(pd.read_csv(ZONE_ATTRIBUTES, index_col='taz').index)\n",
    "stations = set(pd.read_csv(NEW_STATION_FILE, index_col='taz').index)\n",
    "gateways = {9401, 9401, 9402, 9403, 9404, 9405, 9406, 9407, 9408, 9409, 9410, 9411, 9412, 9413, 9501, 9502, 9503, 9504}\n",
    "all_zones = pd.Index(sorted(zones | stations | gateways))\n",
    "source_butler = gghm_api.MatrixButler.connect(SOURCE_CACHE)"
   ]
  },
  {
   "cell_type": "code",
   "execution_count": null,
   "metadata": {
    "collapsed": true,
    "show_input": true
   },
   "outputs": [],
   "source": []
  },
  {
   "cell_type": "code",
   "execution_count": 6,
   "metadata": {
    "collapsed": true,
    "show_input": true
   },
   "outputs": [],
   "source": [
    "new_butler = gghm_api.MatrixButler.create(TARGET_CACHE, all_zones, 4000)\n",
    "new_butler.zone_partition = source_butler.zone_partition"
   ]
  },
  {
   "cell_type": "code",
   "execution_count": null,
   "metadata": {
    "collapsed": true,
    "show_input": true
   },
   "outputs": [],
   "source": []
  },
  {
   "cell_type": "markdown",
   "metadata": {},
   "source": [
    "Copy over the matrices, expanding as we go"
   ]
  },
  {
   "cell_type": "code",
   "execution_count": 7,
   "metadata": {
    "collapsed": true,
    "show_input": true
   },
   "outputs": [],
   "source": [
    "od_matrix_list = source_butler.query_type('od_trips')\n",
    "pa_matrix_list = [uid for uid in source_butler.query_type('pa_trips') if 'all_modes' in uid]"
   ]
  },
  {
   "cell_type": "code",
   "execution_count": 8,
   "metadata": {
    "collapsed": false,
    "show_input": true
   },
   "outputs": [
    {
     "name": "stdout",
     "output_type": "stream",
     "text": [
      "Wall time: 215 ms\n"
     ]
    }
   ],
   "source": [
    "%%time\n",
    "source_mindex = pd.MultiIndex.from_product([source_butler.zone_system]*2)\n",
    "new_mindex = pd.MultiIndex.from_product([all_zones]*2)"
   ]
  },
  {
   "cell_type": "code",
   "execution_count": 9,
   "metadata": {
    "collapsed": false,
    "show_input": true
   },
   "outputs": [
    {
     "name": "stdout",
     "output_type": "stream",
     "text": [
      "Wall time: 27.2 s\n"
     ]
    }
   ],
   "source": [
    "%%time\n",
    "indexer = new_mindex.get_indexer_for(source_mindex)"
   ]
  },
  {
   "cell_type": "code",
   "execution_count": null,
   "metadata": {
    "collapsed": true,
    "show_input": true
   },
   "outputs": [],
   "source": []
  },
  {
   "cell_type": "code",
   "execution_count": 10,
   "metadata": {
    "collapsed": true,
    "show_input": true
   },
   "outputs": [],
   "source": [
    "def expand_matrix(uid, matrix_type):\n",
    "    source_matrix = source_butler.load_matrix(uid, tall=True).values\n",
    "    \n",
    "    new_matrix = pd.Series(0.0, index=new_mindex).astype('f4').values\n",
    "    new_matrix[indexer] = source_matrix\n",
    "    \n",
    "    new_matrix.shape = len(all_zones), len(all_zones)\n",
    "    new_matrix = pd.DataFrame(new_matrix, index=all_zones, columns=all_zones)\n",
    "    new_butler.save_matrix(new_matrix, uid, type_name=matrix_type)\n",
    "    print uid"
   ]
  },
  {
   "cell_type": "code",
   "execution_count": 11,
   "metadata": {
    "collapsed": false,
    "show_input": true
   },
   "outputs": [
    {
     "name": "stdout",
     "output_type": "stream",
     "text": [
      "trips.am_peak.truck.light\n",
      "trips.midday.truck.light\n",
      "trips.pm_peak.truck.light\n",
      "trips.evening.truck.light\n",
      "trips.overnight.truck.light\n",
      "trips.am_peak.truck.medium\n",
      "trips.midday.truck.medium\n",
      "trips.pm_peak.truck.medium\n",
      "trips.evening.truck.medium\n",
      "trips.overnight.truck.medium\n",
      "trips.am_peak.truck.heavy\n",
      "trips.midday.truck.heavy\n",
      "trips.pm_peak.truck.heavy\n",
      "trips.evening.truck.heavy\n",
      "trips.overnight.truck.heavy\n",
      "trips.peak.active.walk\n",
      "trips.peak.active.bike\n",
      "trips.offpeak.active.walk\n",
      "trips.offpeak.active.bike\n",
      "trips.peak.transit.train\n",
      "trips.offpeak.transit.train\n",
      "trips.peak.transit.subway\n",
      "trips.offpeak.transit.subway\n",
      "trips.peak.transit.ztsa\n",
      "trips.offpeak.transit.ztsa\n",
      "trips.peak.transit.express_bus\n",
      "trips.offpeak.transit.express_bus\n",
      "trips.peak.transit.rapid_bus\n",
      "trips.offpeak.transit.rapid_bus\n",
      "trips.peak.transit.local_bus\n",
      "trips.offpeak.transit.local_bus\n",
      "trips.peak.transit.drive_to_and_from\n",
      "trips.offpeak.transit.drive_to_and_from\n",
      "trips.am_peak.auto1.toll\n",
      "trips.am_peak.auto2.nt_nh\n",
      "trips.am_peak.auto2.nt_hov\n",
      "trips.am_peak.auto2.toll_nh\n",
      "trips.am_peak.auto2.toll_hov\n",
      "trips.am_peak.auto3.nt_nh\n",
      "trips.am_peak.auto3.nt_hov\n",
      "trips.am_peak.auto3.toll_nh\n",
      "trips.am_peak.auto3.toll_hov\n",
      "trips.pm_peak.auto1.toll\n",
      "trips.pm_peak.auto2.nt_nh\n",
      "trips.pm_peak.auto2.nt_hov\n",
      "trips.pm_peak.auto2.toll_nh\n",
      "trips.pm_peak.auto2.toll_hov\n",
      "trips.pm_peak.auto3.nt_nh\n",
      "trips.pm_peak.auto3.nt_hov\n",
      "trips.pm_peak.auto3.toll_nh\n",
      "trips.pm_peak.auto3.toll_hov\n",
      "trips.midday.auto1.toll\n",
      "trips.midday.auto2.nt_nh\n",
      "trips.midday.auto2.nt_hov\n",
      "trips.midday.auto2.toll_nh\n",
      "trips.midday.auto2.toll_hov\n",
      "trips.midday.auto3.nt_nh\n",
      "trips.midday.auto3.nt_hov\n",
      "trips.midday.auto3.toll_nh\n",
      "trips.midday.auto3.toll_hov\n",
      "trips.evening.auto1.toll\n",
      "trips.evening.auto2.nt_nh\n",
      "trips.evening.auto2.nt_hov\n",
      "trips.evening.auto2.toll_nh\n",
      "trips.evening.auto2.toll_hov\n",
      "trips.evening.auto3.nt_nh\n",
      "trips.evening.auto3.nt_hov\n",
      "trips.evening.auto3.toll_nh\n",
      "trips.evening.auto3.toll_hov\n",
      "trips.overnight.auto1.toll\n",
      "trips.overnight.auto2.nt_nh\n",
      "trips.overnight.auto2.nt_hov\n",
      "trips.overnight.auto2.toll_nh\n",
      "trips.overnight.auto2.toll_hov\n",
      "trips.overnight.auto3.nt_nh\n",
      "trips.overnight.auto3.nt_hov\n",
      "trips.overnight.auto3.toll_nh\n",
      "trips.overnight.auto3.toll_hov\n",
      "trips.am_peak.auto1.nt\n",
      "trips.midday.auto1.nt\n",
      "trips.pm_peak.auto1.nt\n",
      "trips.evening.auto1.nt\n",
      "trips.overnight.auto1.nt\n",
      "trips.peak.all_modes.hbs.nocar_low\n",
      "trips.offpeak.all_modes.hbs.nocar_low\n",
      "trips.peak.all_modes.hbs.nocar_high\n",
      "trips.offpeak.all_modes.hbs.nocar_high\n",
      "trips.peak.all_modes.hbs.insuff_low\n",
      "trips.offpeak.all_modes.hbs.insuff_low\n",
      "trips.peak.all_modes.hbs.insuff_high\n",
      "trips.offpeak.all_modes.hbs.insuff_high\n",
      "trips.peak.all_modes.hbs.suff_low\n",
      "trips.offpeak.all_modes.hbs.suff_low\n",
      "trips.peak.all_modes.hbs.suff_high\n",
      "trips.offpeak.all_modes.hbs.suff_high\n",
      "trips.peak.all_modes.hbu.nocar_low\n",
      "trips.offpeak.all_modes.hbu.nocar_low\n",
      "trips.peak.all_modes.hbu.nocar_high\n",
      "trips.offpeak.all_modes.hbu.nocar_high\n",
      "trips.peak.all_modes.hbu.insuff_low\n",
      "trips.offpeak.all_modes.hbu.insuff_low\n",
      "trips.peak.all_modes.hbu.insuff_high\n",
      "trips.offpeak.all_modes.hbu.insuff_high\n",
      "trips.peak.all_modes.hbu.suff_low\n",
      "trips.offpeak.all_modes.hbu.suff_low\n",
      "trips.peak.all_modes.hbu.suff_high\n",
      "trips.offpeak.all_modes.hbu.suff_high\n",
      "trips.peak.all_modes.hbe.insuff_low\n",
      "trips.offpeak.all_modes.hbe.insuff_low\n",
      "trips.peak.all_modes.hbe.insuff_high\n",
      "trips.offpeak.all_modes.hbe.insuff_high\n",
      "trips.peak.all_modes.hbe.suff_low\n",
      "trips.offpeak.all_modes.hbe.suff_low\n",
      "trips.peak.all_modes.hbe.suff_high\n",
      "trips.offpeak.all_modes.hbe.suff_high\n",
      "trips.peak.all_modes.hbw.nocar_low\n",
      "trips.peak.all_modes.hbw.nocar_high\n",
      "trips.peak.all_modes.hbw.insuff_low\n",
      "trips.peak.all_modes.hbw.insuff_high\n",
      "trips.peak.all_modes.hbw.suff_low\n",
      "trips.peak.all_modes.hbw.suff_high\n",
      "trips.peak.all_modes.hbu.all_segments\n",
      "trips.peak.all_modes.hbo.nocar_low\n",
      "trips.peak.all_modes.hbo.nocar_high\n",
      "trips.peak.all_modes.hbo.insuff_low\n",
      "trips.peak.all_modes.hbo.insuff_high\n",
      "trips.peak.all_modes.hbo.suff_low\n",
      "trips.peak.all_modes.hbo.suff_high\n",
      "trips.peak.all_modes.hbm.nocar_low\n",
      "trips.peak.all_modes.hbm.nocar_high\n",
      "trips.peak.all_modes.hbm.insuff_low\n",
      "trips.peak.all_modes.hbm.insuff_high\n",
      "trips.peak.all_modes.hbm.suff_low\n",
      "trips.peak.all_modes.hbm.suff_high\n",
      "trips.peak.all_modes.hbs.all_segments\n",
      "trips.peak.all_modes.wbo.nocar_low\n",
      "trips.peak.all_modes.wbo.nocar_high\n",
      "trips.peak.all_modes.wbo.insuff_low\n",
      "trips.peak.all_modes.wbo.insuff_high\n",
      "trips.peak.all_modes.wbo.suff_low\n",
      "trips.peak.all_modes.wbo.suff_high\n",
      "trips.peak.all_modes.nhb.all_segments\n",
      "trips.offpeak.all_modes.hbw.nocar_low\n",
      "trips.offpeak.all_modes.hbw.nocar_high\n",
      "trips.offpeak.all_modes.hbw.insuff_low\n",
      "trips.offpeak.all_modes.hbw.insuff_high\n",
      "trips.offpeak.all_modes.hbw.suff_low\n",
      "trips.offpeak.all_modes.hbw.suff_high\n",
      "trips.offpeak.all_modes.hbu.all_segments\n",
      "trips.offpeak.all_modes.hbo.nocar_low\n",
      "trips.offpeak.all_modes.hbo.nocar_high\n",
      "trips.offpeak.all_modes.hbo.insuff_low\n",
      "trips.offpeak.all_modes.hbo.insuff_high\n",
      "trips.offpeak.all_modes.hbo.suff_low\n",
      "trips.offpeak.all_modes.hbo.suff_high\n",
      "trips.offpeak.all_modes.hbm.nocar_low\n",
      "trips.offpeak.all_modes.hbm.nocar_high\n",
      "trips.offpeak.all_modes.hbm.insuff_low\n",
      "trips.offpeak.all_modes.hbm.insuff_high\n",
      "trips.offpeak.all_modes.hbm.suff_low\n",
      "trips.offpeak.all_modes.hbm.suff_high\n",
      "trips.offpeak.all_modes.hbs.all_segments\n",
      "trips.offpeak.all_modes.wbo.nocar_low\n",
      "trips.offpeak.all_modes.wbo.nocar_high\n",
      "trips.offpeak.all_modes.wbo.insuff_low\n",
      "trips.offpeak.all_modes.wbo.insuff_high\n",
      "trips.offpeak.all_modes.wbo.suff_low\n",
      "trips.offpeak.all_modes.wbo.suff_high\n",
      "trips.offpeak.all_modes.nhb.all_segments\n",
      "Wall time: 2min 17s\n"
     ]
    }
   ],
   "source": [
    "%%time\n",
    "for uid in od_matrix_list: expand_matrix(uid, 'od_trips')\n",
    "for uid in pa_matrix_list: expand_matrix(uid, 'pa_trips')"
   ]
  },
  {
   "cell_type": "code",
   "execution_count": null,
   "metadata": {
    "collapsed": true,
    "show_input": true
   },
   "outputs": [],
   "source": []
  },
  {
   "cell_type": "code",
   "execution_count": null,
   "metadata": {
    "collapsed": true,
    "show_input": true
   },
   "outputs": [],
   "source": []
  },
  {
   "cell_type": "code",
   "execution_count": null,
   "metadata": {
    "collapsed": true,
    "show_input": true
   },
   "outputs": [],
   "source": []
  },
  {
   "cell_type": "code",
   "execution_count": null,
   "metadata": {
    "collapsed": true,
    "show_input": true
   },
   "outputs": [],
   "source": []
  }
 ],
 "metadata": {
  "kernelspec": {
   "display_name": "Python 2",
   "language": "python",
   "name": "python2"
  },
  "language_info": {
   "codemirror_mode": {
    "name": "ipython",
    "version": 2
   },
   "file_extension": ".py",
   "mimetype": "text/x-python",
   "name": "python",
   "nbconvert_exporter": "python",
   "pygments_lexer": "ipython2",
   "version": "2.7.14"
  }
 },
 "nbformat": 4,
 "nbformat_minor": 0
}
